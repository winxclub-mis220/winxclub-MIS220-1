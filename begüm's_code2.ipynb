{
  "nbformat": 4,
  "nbformat_minor": 0,
  "metadata": {
    "colab": {
      "provenance": []
    },
    "kernelspec": {
      "name": "python3",
      "display_name": "Python 3"
    },
    "language_info": {
      "name": "python"
    }
  },
  "cells": [
    {
      "cell_type": "code",
      "execution_count": 1,
      "metadata": {
        "id": "LgE5fbCdunzY"
      },
      "outputs": [],
      "source": [
        "import pandas as pd\n",
        "import numpy as np \n",
        "from scipy import stats\n",
        "import matplotlib.pyplot as plt\n",
        "import seaborn as sns"
      ]
    },
    {
      "cell_type": "code",
      "source": [
        "#this code reads the csv file named train.\n",
        "train = pd.read_csv(\"/content/train (5).csv\", header=None, error_bad_lines=False)"
      ],
      "metadata": {
        "colab": {
          "base_uri": "https://localhost:8080/"
        },
        "id": "Eycsv520ut6z",
        "outputId": "21de2aa2-4c88-4a45-a038-562d9829000d"
      },
      "execution_count": 2,
      "outputs": [
        {
          "output_type": "stream",
          "name": "stderr",
          "text": [
            "<ipython-input-2-d9b9f3edc886>:2: FutureWarning: The error_bad_lines argument has been deprecated and will be removed in a future version. Use on_bad_lines in the future.\n",
            "\n",
            "\n",
            "  train = pd.read_csv(\"/content/train (5).csv\", header=None, error_bad_lines=False)\n"
          ]
        }
      ]
    },
    {
      "cell_type": "code",
      "source": [
        "#in this part, I used train.head() function to display the first 5 rows in my dataset.\n",
        "train.head()"
      ],
      "metadata": {
        "colab": {
          "base_uri": "https://localhost:8080/",
          "height": 236
        },
        "id": "HQvENzrVu2HQ",
        "outputId": "c967dc85-2617-4d85-fa8a-6e8a84af32f6"
      },
      "execution_count": 3,
      "outputs": [
        {
          "output_type": "execute_result",
          "data": {
            "text/plain": [
              "      0     1       2       3     4   5     6       7    8    9    ...  112  \\\n",
              "0   69769  -946  0.1613  0.7960  Panl   N  Bus2  0.0742    0    2  ...  1.0   \n",
              "1  236977   -92     NaN     NaN   NaN   Y  Othr     NaN    0    3  ...  NaN   \n",
              "2  168821 -1646  0.1124  0.8504  Panl   N  Bus3  0.0387    0    2  ...  2.0   \n",
              "3   94708 -1651  0.0263     NaN  Blok   N  Bus3     NaN    0    2  ...  4.0   \n",
              "4   84556  -977     NaN     NaN   NaN   N  Rest     NaN    0    2  ...  NaN   \n",
              "\n",
              "      113     114  115  116   117  118     119  120  121  \n",
              "0 -4670.0  0.9851  0.0  0.0  Mard  0.0  0.3333  0.0  0.0  \n",
              "1 -1994.0     NaN  NaN  0.0  Mard  0.0     NaN  0.0  0.0  \n",
              "2 -2842.0  0.9891  0.0  0.0  Sind  0.0  0.3750  0.0  1.0  \n",
              "3 -1345.0  0.9682  0.0  0.0  Sind  0.0  0.0417  0.0  1.0  \n",
              "4  -852.0     NaN  NaN  0.0  Sind  0.0     NaN  0.0  0.0  \n",
              "\n",
              "[5 rows x 122 columns]"
            ],
            "text/html": [
              "\n",
              "  <div id=\"df-c5296cf8-c53c-4c34-89d5-b43e94e67e96\">\n",
              "    <div class=\"colab-df-container\">\n",
              "      <div>\n",
              "<style scoped>\n",
              "    .dataframe tbody tr th:only-of-type {\n",
              "        vertical-align: middle;\n",
              "    }\n",
              "\n",
              "    .dataframe tbody tr th {\n",
              "        vertical-align: top;\n",
              "    }\n",
              "\n",
              "    .dataframe thead th {\n",
              "        text-align: right;\n",
              "    }\n",
              "</style>\n",
              "<table border=\"1\" class=\"dataframe\">\n",
              "  <thead>\n",
              "    <tr style=\"text-align: right;\">\n",
              "      <th></th>\n",
              "      <th>0</th>\n",
              "      <th>1</th>\n",
              "      <th>2</th>\n",
              "      <th>3</th>\n",
              "      <th>4</th>\n",
              "      <th>5</th>\n",
              "      <th>6</th>\n",
              "      <th>7</th>\n",
              "      <th>8</th>\n",
              "      <th>9</th>\n",
              "      <th>...</th>\n",
              "      <th>112</th>\n",
              "      <th>113</th>\n",
              "      <th>114</th>\n",
              "      <th>115</th>\n",
              "      <th>116</th>\n",
              "      <th>117</th>\n",
              "      <th>118</th>\n",
              "      <th>119</th>\n",
              "      <th>120</th>\n",
              "      <th>121</th>\n",
              "    </tr>\n",
              "  </thead>\n",
              "  <tbody>\n",
              "    <tr>\n",
              "      <th>0</th>\n",
              "      <td>69769</td>\n",
              "      <td>-946</td>\n",
              "      <td>0.1613</td>\n",
              "      <td>0.7960</td>\n",
              "      <td>Panl</td>\n",
              "      <td>N</td>\n",
              "      <td>Bus2</td>\n",
              "      <td>0.0742</td>\n",
              "      <td>0</td>\n",
              "      <td>2</td>\n",
              "      <td>...</td>\n",
              "      <td>1.0</td>\n",
              "      <td>-4670.0</td>\n",
              "      <td>0.9851</td>\n",
              "      <td>0.0</td>\n",
              "      <td>0.0</td>\n",
              "      <td>Mard</td>\n",
              "      <td>0.0</td>\n",
              "      <td>0.3333</td>\n",
              "      <td>0.0</td>\n",
              "      <td>0.0</td>\n",
              "    </tr>\n",
              "    <tr>\n",
              "      <th>1</th>\n",
              "      <td>236977</td>\n",
              "      <td>-92</td>\n",
              "      <td>NaN</td>\n",
              "      <td>NaN</td>\n",
              "      <td>NaN</td>\n",
              "      <td>Y</td>\n",
              "      <td>Othr</td>\n",
              "      <td>NaN</td>\n",
              "      <td>0</td>\n",
              "      <td>3</td>\n",
              "      <td>...</td>\n",
              "      <td>NaN</td>\n",
              "      <td>-1994.0</td>\n",
              "      <td>NaN</td>\n",
              "      <td>NaN</td>\n",
              "      <td>0.0</td>\n",
              "      <td>Mard</td>\n",
              "      <td>0.0</td>\n",
              "      <td>NaN</td>\n",
              "      <td>0.0</td>\n",
              "      <td>0.0</td>\n",
              "    </tr>\n",
              "    <tr>\n",
              "      <th>2</th>\n",
              "      <td>168821</td>\n",
              "      <td>-1646</td>\n",
              "      <td>0.1124</td>\n",
              "      <td>0.8504</td>\n",
              "      <td>Panl</td>\n",
              "      <td>N</td>\n",
              "      <td>Bus3</td>\n",
              "      <td>0.0387</td>\n",
              "      <td>0</td>\n",
              "      <td>2</td>\n",
              "      <td>...</td>\n",
              "      <td>2.0</td>\n",
              "      <td>-2842.0</td>\n",
              "      <td>0.9891</td>\n",
              "      <td>0.0</td>\n",
              "      <td>0.0</td>\n",
              "      <td>Sind</td>\n",
              "      <td>0.0</td>\n",
              "      <td>0.3750</td>\n",
              "      <td>0.0</td>\n",
              "      <td>1.0</td>\n",
              "    </tr>\n",
              "    <tr>\n",
              "      <th>3</th>\n",
              "      <td>94708</td>\n",
              "      <td>-1651</td>\n",
              "      <td>0.0263</td>\n",
              "      <td>NaN</td>\n",
              "      <td>Blok</td>\n",
              "      <td>N</td>\n",
              "      <td>Bus3</td>\n",
              "      <td>NaN</td>\n",
              "      <td>0</td>\n",
              "      <td>2</td>\n",
              "      <td>...</td>\n",
              "      <td>4.0</td>\n",
              "      <td>-1345.0</td>\n",
              "      <td>0.9682</td>\n",
              "      <td>0.0</td>\n",
              "      <td>0.0</td>\n",
              "      <td>Sind</td>\n",
              "      <td>0.0</td>\n",
              "      <td>0.0417</td>\n",
              "      <td>0.0</td>\n",
              "      <td>1.0</td>\n",
              "    </tr>\n",
              "    <tr>\n",
              "      <th>4</th>\n",
              "      <td>84556</td>\n",
              "      <td>-977</td>\n",
              "      <td>NaN</td>\n",
              "      <td>NaN</td>\n",
              "      <td>NaN</td>\n",
              "      <td>N</td>\n",
              "      <td>Rest</td>\n",
              "      <td>NaN</td>\n",
              "      <td>0</td>\n",
              "      <td>2</td>\n",
              "      <td>...</td>\n",
              "      <td>NaN</td>\n",
              "      <td>-852.0</td>\n",
              "      <td>NaN</td>\n",
              "      <td>NaN</td>\n",
              "      <td>0.0</td>\n",
              "      <td>Sind</td>\n",
              "      <td>0.0</td>\n",
              "      <td>NaN</td>\n",
              "      <td>0.0</td>\n",
              "      <td>0.0</td>\n",
              "    </tr>\n",
              "  </tbody>\n",
              "</table>\n",
              "<p>5 rows × 122 columns</p>\n",
              "</div>\n",
              "      <button class=\"colab-df-convert\" onclick=\"convertToInteractive('df-c5296cf8-c53c-4c34-89d5-b43e94e67e96')\"\n",
              "              title=\"Convert this dataframe to an interactive table.\"\n",
              "              style=\"display:none;\">\n",
              "        \n",
              "  <svg xmlns=\"http://www.w3.org/2000/svg\" height=\"24px\"viewBox=\"0 0 24 24\"\n",
              "       width=\"24px\">\n",
              "    <path d=\"M0 0h24v24H0V0z\" fill=\"none\"/>\n",
              "    <path d=\"M18.56 5.44l.94 2.06.94-2.06 2.06-.94-2.06-.94-.94-2.06-.94 2.06-2.06.94zm-11 1L8.5 8.5l.94-2.06 2.06-.94-2.06-.94L8.5 2.5l-.94 2.06-2.06.94zm10 10l.94 2.06.94-2.06 2.06-.94-2.06-.94-.94-2.06-.94 2.06-2.06.94z\"/><path d=\"M17.41 7.96l-1.37-1.37c-.4-.4-.92-.59-1.43-.59-.52 0-1.04.2-1.43.59L10.3 9.45l-7.72 7.72c-.78.78-.78 2.05 0 2.83L4 21.41c.39.39.9.59 1.41.59.51 0 1.02-.2 1.41-.59l7.78-7.78 2.81-2.81c.8-.78.8-2.07 0-2.86zM5.41 20L4 18.59l7.72-7.72 1.47 1.35L5.41 20z\"/>\n",
              "  </svg>\n",
              "      </button>\n",
              "      \n",
              "  <style>\n",
              "    .colab-df-container {\n",
              "      display:flex;\n",
              "      flex-wrap:wrap;\n",
              "      gap: 12px;\n",
              "    }\n",
              "\n",
              "    .colab-df-convert {\n",
              "      background-color: #E8F0FE;\n",
              "      border: none;\n",
              "      border-radius: 50%;\n",
              "      cursor: pointer;\n",
              "      display: none;\n",
              "      fill: #1967D2;\n",
              "      height: 32px;\n",
              "      padding: 0 0 0 0;\n",
              "      width: 32px;\n",
              "    }\n",
              "\n",
              "    .colab-df-convert:hover {\n",
              "      background-color: #E2EBFA;\n",
              "      box-shadow: 0px 1px 2px rgba(60, 64, 67, 0.3), 0px 1px 3px 1px rgba(60, 64, 67, 0.15);\n",
              "      fill: #174EA6;\n",
              "    }\n",
              "\n",
              "    [theme=dark] .colab-df-convert {\n",
              "      background-color: #3B4455;\n",
              "      fill: #D2E3FC;\n",
              "    }\n",
              "\n",
              "    [theme=dark] .colab-df-convert:hover {\n",
              "      background-color: #434B5C;\n",
              "      box-shadow: 0px 1px 3px 1px rgba(0, 0, 0, 0.15);\n",
              "      filter: drop-shadow(0px 1px 2px rgba(0, 0, 0, 0.3));\n",
              "      fill: #FFFFFF;\n",
              "    }\n",
              "  </style>\n",
              "\n",
              "      <script>\n",
              "        const buttonEl =\n",
              "          document.querySelector('#df-c5296cf8-c53c-4c34-89d5-b43e94e67e96 button.colab-df-convert');\n",
              "        buttonEl.style.display =\n",
              "          google.colab.kernel.accessAllowed ? 'block' : 'none';\n",
              "\n",
              "        async function convertToInteractive(key) {\n",
              "          const element = document.querySelector('#df-c5296cf8-c53c-4c34-89d5-b43e94e67e96');\n",
              "          const dataTable =\n",
              "            await google.colab.kernel.invokeFunction('convertToInteractive',\n",
              "                                                     [key], {});\n",
              "          if (!dataTable) return;\n",
              "\n",
              "          const docLinkHtml = 'Like what you see? Visit the ' +\n",
              "            '<a target=\"_blank\" href=https://colab.research.google.com/notebooks/data_table.ipynb>data table notebook</a>'\n",
              "            + ' to learn more about interactive tables.';\n",
              "          element.innerHTML = '';\n",
              "          dataTable['output_type'] = 'display_data';\n",
              "          await google.colab.output.renderOutput(dataTable, element);\n",
              "          const docLink = document.createElement('div');\n",
              "          docLink.innerHTML = docLinkHtml;\n",
              "          element.appendChild(docLink);\n",
              "        }\n",
              "      </script>\n",
              "    </div>\n",
              "  </div>\n",
              "  "
            ]
          },
          "metadata": {},
          "execution_count": 3
        }
      ]
    },
    {
      "cell_type": "code",
      "source": [
        "train.shape"
      ],
      "metadata": {
        "colab": {
          "base_uri": "https://localhost:8080/"
        },
        "id": "QzeHzunKu4om",
        "outputId": "2f943591-4a21-4d7b-a239-32bc512e22c3"
      },
      "execution_count": null,
      "outputs": [
        {
          "output_type": "execute_result",
          "data": {
            "text/plain": [
              "(11633, 122)"
            ]
          },
          "metadata": {},
          "execution_count": 4
        }
      ]
    },
    {
      "cell_type": "code",
      "source": [
        "#I used the .isnull().sum() expression to calculate how many NaN values are in the columns in my dataset.\n",
        "train.isnull().sum()"
      ],
      "metadata": {
        "colab": {
          "base_uri": "https://localhost:8080/"
        },
        "id": "kBC96hAeu83R",
        "outputId": "bcf26e11-0f86-4c59-f54f-c50f7c7ac466"
      },
      "execution_count": 4,
      "outputs": [
        {
          "output_type": "execute_result",
          "data": {
            "text/plain": [
              "0         0\n",
              "1         0\n",
              "2      4061\n",
              "3      4620\n",
              "4      3496\n",
              "       ... \n",
              "117       1\n",
              "118      29\n",
              "119    3414\n",
              "120       1\n",
              "121       1\n",
              "Length: 122, dtype: int64"
            ]
          },
          "metadata": {},
          "execution_count": 4
        }
      ]
    },
    {
      "cell_type": "code",
      "source": [
        "#I filled the missing values in the data set with the average values.\n",
        "train = train.fillna(train.mean())\n",
        "train = train.dropna()"
      ],
      "metadata": {
        "colab": {
          "base_uri": "https://localhost:8080/"
        },
        "id": "7JXdL9i7vE8-",
        "outputId": "6827d141-0d76-4745-a20b-169b6ed6f288"
      },
      "execution_count": 5,
      "outputs": [
        {
          "output_type": "stream",
          "name": "stderr",
          "text": [
            "<ipython-input-5-775922a17036>:2: FutureWarning: The default value of numeric_only in DataFrame.mean is deprecated. In a future version, it will default to False. In addition, specifying 'numeric_only=None' is deprecated. Select only valid columns or specify the value of numeric_only to silence this warning.\n",
            "  train = train.fillna(train.mean())\n"
          ]
        }
      ]
    },
    {
      "cell_type": "code",
      "source": [
        "#after filling the missing values in the data set with the average values, I check again to see if there is any missing value in the columns in my data set.\n",
        "print(train.isnull().sum())"
      ],
      "metadata": {
        "colab": {
          "base_uri": "https://localhost:8080/"
        },
        "id": "JMVXgJDcvH3m",
        "outputId": "f2fe5f3e-c22f-49f9-c274-173e0732f54a"
      },
      "execution_count": 6,
      "outputs": [
        {
          "output_type": "stream",
          "name": "stdout",
          "text": [
            "0      0\n",
            "1      0\n",
            "2      0\n",
            "3      0\n",
            "4      0\n",
            "      ..\n",
            "117    0\n",
            "118    0\n",
            "119    0\n",
            "120    0\n",
            "121    0\n",
            "Length: 122, dtype: int64\n"
          ]
        }
      ]
    },
    {
      "cell_type": "code",
      "source": [
        "#I used the train.dtypes function to display the datatypes of the columns in my dataset.\n",
        "print(train.dtypes)"
      ],
      "metadata": {
        "id": "N58Jocpev8dy",
        "colab": {
          "base_uri": "https://localhost:8080/"
        },
        "outputId": "298add07-f9f3-4a7a-be31-c3bff931ecde"
      },
      "execution_count": 7,
      "outputs": [
        {
          "output_type": "stream",
          "name": "stdout",
          "text": [
            "0        int64\n",
            "1        int64\n",
            "2      float64\n",
            "3      float64\n",
            "4       object\n",
            "        ...   \n",
            "117     object\n",
            "118    float64\n",
            "119    float64\n",
            "120    float64\n",
            "121    float64\n",
            "Length: 122, dtype: object\n"
          ]
        }
      ]
    },
    {
      "cell_type": "code",
      "source": [
        "#I used the select_dtypes() function to detect columns with string data type in my dataset.\n",
        "string_columns = train.select_dtypes(include=['object'])\n",
        "print(string_columns)"
      ],
      "metadata": {
        "colab": {
          "base_uri": "https://localhost:8080/"
        },
        "id": "h3EBvcAmwAPL",
        "outputId": "c71c83f3-e4cc-4c2f-fc05-e08d762b7d80"
      },
      "execution_count": 8,
      "outputs": [
        {
          "output_type": "stream",
          "name": "stdout",
          "text": [
            "       4   5     6   14    16    30    31    44  47    67  69    93    103  \\\n",
            "0     Panl   N  Bus2  No  Unad  Come  Hout  Labs   N  Hign   F  WEDY  Cass   \n",
            "2     Panl   N  Bus3  No  Spor  Worg  Hout  Labs   Y  Secl   M  TUEY  Cass   \n",
            "13    Stok   N  Mede  No  Unad  Stat  Munt  Medf   Y  Secl   F  TUEY  Cass   \n",
            "15    Panl   Y  Bus2  No  Unad  Come  Hout  Labs   Y  Secl   F  THUY  Cass   \n",
            "20    Panl   N  Bus3  No  Spor  Worg  Hout  Salf   Y  Secl   F  MONY  Revs   \n",
            "...    ...  ..   ...  ..   ...   ...   ...   ...  ..   ...  ..   ...   ...   \n",
            "6960  Panl   N  Bank  No  Unad  Come  Hout  Accs   N  Hign   F  THUY  Cass   \n",
            "6968  Panl   Y  Pole  No  Famy  Stat  Hout  Corf   Y  Hign   F  THUY  Cass   \n",
            "6969  Stok   N  Mobe  No  Unad  Come  Wits  Higf   Y  Incr   M  FRIY  Cass   \n",
            "6977  Panl   N  Othr  No  Unad  Worg  Munt  Labs   Y  Secl   M  TUEY  Cass   \n",
            "6978  Stok   N  Tra1  No  Unad  Worg  Hout  Medf   N  Secl   F  MONY  Cass   \n",
            "\n",
            "       107   110   117  \n",
            "0     blos  regt  Mard  \n",
            "2     blos  regt  Sind  \n",
            "13    blos  regt  Cive  \n",
            "15    blos  regt  Sind  \n",
            "20    blos  regt  Mard  \n",
            "...    ...   ...   ...  \n",
            "6960  blos  regt  Cive  \n",
            "6968  blos  regt  Mard  \n",
            "6969  blos  regt  Sind  \n",
            "6977  blos  orgt  Sind  \n",
            "6978  blos  regt  Mard  \n",
            "\n",
            "[1538 rows x 16 columns]\n"
          ]
        }
      ]
    },
    {
      "cell_type": "code",
      "source": [
        "#I converted columns with categorical values to numeric using the fit_transform method.\n",
        "import pandas as pd\n",
        "from sklearn.preprocessing import LabelEncoder\n",
        "from sklearn.impute import SimpleImputer\n",
        "non_numeric_columns = [4, 5, 6, 14, 16, 30, 31, 44, 47, 67, 69, 93, 103, 107, 110, 117]\n",
        "label_encoder = LabelEncoder()\n",
        "\n",
        "for col in non_numeric_columns:\n",
        "    train[col] = label_encoder.fit_transform(train[col])"
      ],
      "metadata": {
        "id": "H66zjfX6UvKm"
      },
      "execution_count": 9,
      "outputs": []
    },
    {
      "cell_type": "code",
      "source": [
        "#I wrote this code to display the columns with positive correlation coefficient with our target column named 121. Columns 1 and 70 have a positive relationship with my target column.\n",
        "correlation_matrix = train.corr()\n",
        "positive_correlations = correlation_matrix[121][correlation_matrix[121] > 0].sort_values(ascending=False)\n",
        "print(positive_correlations)"
      ],
      "metadata": {
        "colab": {
          "base_uri": "https://localhost:8080/"
        },
        "id": "mZZ-NpdawMzX",
        "outputId": "b81f28b1-9152-4653-ada5-8b624f2acf08"
      },
      "execution_count": 10,
      "outputs": [
        {
          "output_type": "stream",
          "name": "stdout",
          "text": [
            "121    1.000000\n",
            "69     0.080649\n",
            "1      0.078804\n",
            "70     0.071171\n",
            "118    0.067227\n",
            "67     0.059064\n",
            "9      0.056847\n",
            "83     0.056524\n",
            "37     0.055594\n",
            "50     0.055281\n",
            "71     0.054976\n",
            "113    0.050582\n",
            "72     0.049708\n",
            "28     0.045891\n",
            "85     0.042798\n",
            "64     0.042061\n",
            "63     0.039705\n",
            "112    0.034935\n",
            "81     0.032873\n",
            "4      0.027868\n",
            "52     0.026140\n",
            "79     0.024220\n",
            "54     0.023603\n",
            "30     0.021022\n",
            "29     0.020692\n",
            "11     0.019236\n",
            "24     0.017791\n",
            "98     0.016832\n",
            "107    0.015935\n",
            "44     0.012869\n",
            "114    0.011162\n",
            "26     0.010936\n",
            "42     0.010872\n",
            "80     0.008807\n",
            "109    0.008555\n",
            "31     0.008122\n",
            "82     0.003967\n",
            "3      0.002538\n",
            "92     0.001912\n",
            "90     0.001641\n",
            "16     0.000290\n",
            "Name: 121, dtype: float64\n"
          ]
        }
      ]
    },
    {
      "cell_type": "code",
      "source": [
        "#I wrote this code to separate the columns in the dataset into continuous, binary, categorical and label groups.\n",
        "dtypes = train.dtypes\n",
        "\n",
        "continuous = []\n",
        "binary = []\n",
        "categorical = []\n",
        "label = []\n",
        "\n",
        "for col in train.columns:\n",
        "    unique_values = train[col].unique()\n",
        "    if len(unique_values) == 2 and set(unique_values) <= set([0, 1]):\n",
        "        binary.append(col)\n",
        "    elif dtypes[col] == object:\n",
        "        categorical.append(col)\n",
        "    else:\n",
        "        continuous.append(col)\n",
        "\n",
        "if 122 in binary:\n",
        "    binary.remove(122)\n",
        "    label.append(122)"
      ],
      "metadata": {
        "id": "leLF1ab0dg8u"
      },
      "execution_count": 11,
      "outputs": []
    },
    {
      "cell_type": "code",
      "source": [
        "print(\"Continuous variables:\", len(continuous), continuous)\n",
        "print(\"Binary variables:\", len(binary), binary)\n",
        "print(\"Categorical variables:\", len(categorical), categorical)\n",
        "print(\"Label:\", len(label), label)"
      ],
      "metadata": {
        "colab": {
          "base_uri": "https://localhost:8080/"
        },
        "id": "n9vVNFmsdpam",
        "outputId": "b3fe30c0-7492-4515-f402-c1895beba46b"
      },
      "execution_count": 12,
      "outputs": [
        {
          "output_type": "stream",
          "name": "stdout",
          "text": [
            "Continuous variables: 93 [0, 1, 2, 3, 4, 6, 7, 9, 10, 11, 12, 13, 16, 17, 18, 19, 21, 22, 23, 25, 27, 30, 31, 32, 33, 34, 35, 36, 37, 38, 39, 40, 41, 43, 44, 45, 48, 49, 51, 53, 54, 56, 57, 58, 59, 60, 61, 63, 65, 66, 67, 68, 70, 72, 73, 74, 75, 76, 77, 78, 79, 80, 82, 83, 84, 85, 86, 87, 88, 89, 90, 91, 92, 93, 94, 95, 96, 99, 101, 102, 104, 107, 109, 110, 111, 112, 113, 114, 115, 116, 117, 118, 119]\n",
            "Binary variables: 29 [5, 8, 14, 15, 20, 24, 26, 28, 29, 42, 46, 47, 50, 52, 55, 62, 64, 69, 71, 81, 97, 98, 100, 103, 105, 106, 108, 120, 121]\n",
            "Categorical variables: 0 []\n",
            "Label: 0 []\n"
          ]
        }
      ]
    },
    {
      "cell_type": "code",
      "source": [
        "#I drew a histogram chart because the columns 70 and 1 have continuous values.\n",
        "plt.figure(figsize=(10, 4))\n",
        "plt.subplot(1, 2, 1)\n",
        "sns.histplot(data=train, x=70, kde=True, color='blue')\n",
        "plt.xlabel('Distribution of Column 70')\n",
        "plt.subplot(1, 2, 2)\n",
        "sns.histplot(data=train, x=1, kde=True, color='green')\n",
        "plt.xlabel('Distribution of Column 1')\n",
        "plt.tight_layout()\n",
        "plt.show()\n",
        "\n",
        "#I drew the bar chart because my target column named 121 has binary values.\n",
        "plt.figure(figsize=(6, 4))\n",
        "sns.countplot(x=121, data=train, palette=['red', 'green'])\n",
        "plt.xlabel('Distribution of Column 121')\n",
        "plt.show()\n"
      ],
      "metadata": {
        "colab": {
          "base_uri": "https://localhost:8080/",
          "height": 778
        },
        "id": "V6MyDxhFYDNY",
        "outputId": "d96649ca-20ea-445a-c0e5-1a345a67747c"
      },
      "execution_count": 17,
      "outputs": [
        {
          "output_type": "display_data",
          "data": {
            "text/plain": [
              "<Figure size 1000x400 with 2 Axes>"
            ],
            "image/png": "[encoded data removed]"
          },
          "metadata": {}
        },
        {
          "output_type": "display_data",
          "data": {
            "text/plain": [
              "<Figure size 600x400 with 1 Axes>"
            ],
            "image/png": "[encoded data removed]"
          },
          "metadata": {}
        }
      ]
    },
    {
      "cell_type": "code",
      "source": [
        "import seaborn as sns\n",
        "import matplotlib.pyplot as plt\n",
        "\n",
        "#I drew a histogram chart to see the relationship between column 70 and column 121.\n",
        "sns.histplot(data=train, x=70, hue=121, element=\"step\", stat=\"probability\", common_norm=False)\n",
        "plt.xlabel('Column 70')\n",
        "plt.legend(title='Column 121')\n",
        "plt.show()\n",
        "\n",
        "#I drew a histogram chart to see the relationship between column 1 and column 121.\n",
        "sns.histplot(data=train, x=1, hue=121, element=\"step\", stat=\"probability\", common_norm=False)\n",
        "plt.xlabel('Column 1')\n",
        "plt.legend(title='Column 121')\n",
        "plt.show()\n"
      ],
      "metadata": {
        "colab": {
          "base_uri": "https://localhost:8080/",
          "height": 936
        },
        "id": "RzMdeTJWYljE",
        "outputId": "a54c827a-6c1b-44c4-8418-dc29037a11b6"
      },
      "execution_count": 18,
      "outputs": [
        {
          "output_type": "stream",
          "name": "stderr",
          "text": [
            "WARNING:matplotlib.legend:No artists with labels found to put in legend.  Note that artists whose label start with an underscore are ignored when legend() is called with no argument.\n"
          ]
        },
        {
          "output_type": "display_data",
          "data": {
            "text/plain": [
              "<Figure size 640x480 with 1 Axes>"
            ],
            "image/png": "[encoded data removed]"
          },
          "metadata": {}
        },
        {
          "output_type": "stream",
          "name": "stderr",
          "text": [
            "WARNING:matplotlib.legend:No artists with labels found to put in legend.  Note that artists whose label start with an underscore are ignored when legend() is called with no argument.\n"
          ]
        },
        {
          "output_type": "display_data",
          "data": {
            "text/plain": [
              "<Figure size 640x480 with 1 Axes>"
            ],
            "image/png": "[encoded data removed]"
          },
          "metadata": {}
        }
      ]
    },
    {
      "cell_type": "code",
      "source": [
        "from sklearn.linear_model import LogisticRegression\n",
        "from sklearn.model_selection import train_test_split\n",
        "from sklearn.metrics import classification_report\n",
        "\n",
        "#I separated the independent variables and the target variable.\n",
        "X = train[[70, 1]]\n",
        "y = train[121]\n",
        "\n",
        "#I split the data into training and testing sets\n",
        "x = train.drop([121], axis=1)\n",
        "y = train[121]\n",
        "\n",
        "X_train, X_test, y_train, y_test = train_test_split(X, y, test_size=0.2, random_state=42)\n",
        "\n",
        "model = LogisticRegression()\n",
        "model.fit(X_train, y_train)\n",
        "\n",
        "y_pred = model.predict(X_test)\n",
        "\n",
        "#I printed the classification report.\n",
        "print(classification_report(y_test, y_pred))\n",
        "\n",
        "#In this part, I wrote this code to evaluate the performance of the columns I'm comparing. I also obtained metrics of the model such as accuracy, precision, recall and F1 scores."
      ],
      "metadata": {
        "colab": {
          "base_uri": "https://localhost:8080/"
        },
        "id": "pn1mvLzcwVhW",
        "outputId": "edca642b-14f9-4b0c-af5b-1addda914cc4"
      },
      "execution_count": 19,
      "outputs": [
        {
          "output_type": "stream",
          "name": "stdout",
          "text": [
            "              precision    recall  f1-score   support\n",
            "\n",
            "         0.0       0.89      1.00      0.94       275\n",
            "         1.0       0.00      0.00      0.00        33\n",
            "\n",
            "    accuracy                           0.89       308\n",
            "   macro avg       0.45      0.50      0.47       308\n",
            "weighted avg       0.80      0.89      0.84       308\n",
            "\n"
          ]
        },
        {
          "output_type": "stream",
          "name": "stderr",
          "text": [
            "/usr/local/lib/python3.10/dist-packages/sklearn/metrics/_classification.py:1344: UndefinedMetricWarning: Precision and F-score are ill-defined and being set to 0.0 in labels with no predicted samples. Use `zero_division` parameter to control this behavior.\n",
            "  _warn_prf(average, modifier, msg_start, len(result))\n",
            "/usr/local/lib/python3.10/dist-packages/sklearn/metrics/_classification.py:1344: UndefinedMetricWarning: Precision and F-score are ill-defined and being set to 0.0 in labels with no predicted samples. Use `zero_division` parameter to control this behavior.\n",
            "  _warn_prf(average, modifier, msg_start, len(result))\n",
            "/usr/local/lib/python3.10/dist-packages/sklearn/metrics/_classification.py:1344: UndefinedMetricWarning: Precision and F-score are ill-defined and being set to 0.0 in labels with no predicted samples. Use `zero_division` parameter to control this behavior.\n",
            "  _warn_prf(average, modifier, msg_start, len(result))\n"
          ]
        }
      ]
    }
  ]
}